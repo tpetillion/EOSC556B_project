{
  "cells": [
    {
      "cell_type": "markdown",
      "metadata": {
        "id": "vipwHm1l1d9T"
      },
      "source": [
        "<img src=\"https://github.com/earthwave/eolis_demo_notebooks_binder/blob/main/cryotempo_logo.png?raw=1\" alt=\"logo\" width=\"200\"/> <img src=\"https://github.com/earthwave/eolis_demo_notebooks_binder/blob/main/esa_logo.png?raw=1\" alt=\"esa\" width=\"170\"/> <img src=\"https://github.com/earthwave/eolis_demo_notebooks_binder/blob/main/earthwave_logo.png?raw=1\" alt=\"earthwave\" width=\"150\"/> <img src=\"https://github.com/earthwave/eolis_demo_notebooks_binder/blob/main/UoE_logo.png?raw=1\" alt=\"uoe\" width=\"200\"/>"
      ]
    },
    {
      "cell_type": "markdown",
      "metadata": {
        "id": "P6G24B-s1d9V"
      },
      "source": [
        "##<strong>*This is a Jupyter notebook that demonstrates how to download and use Cryotempo-EOLIS data, downloaded from cs2eo.org. Here, we will read in some gridded data and then plot DEMs*</strong>\n",
        "- - - - - - - - - - - - - - - - - - - - - - - - - - - - - - - - - - - - - - - - - - - - - - - - - - - - - -"
      ]
    },
    {
      "cell_type": "markdown",
      "metadata": {
        "id": "QK8e-g6Q1d9W"
      },
      "source": [
        "To run this notebook, you will need to make sure that the folllowing packages are installed in your python environment (all can be installed via pip/conda)\n",
        "\n",
        "    - matplotlib\n",
        "    - pandas: for dataframe manipulation\n",
        "    - netCDF4: for handing NetCDF files\n",
        "    - glob\n",
        "    - datetime: for handling timestamps\n",
        "    - numpy\n",
        "- - - - - - - - - - - - - - - - - - - - - - - - - - - - - - - - - - - - - - - - - - - - - - - - - - - - - -"
      ]
    },
    {
      "cell_type": "code",
      "execution_count": null,
      "metadata": {
        "id": "1HpeJ1Hl1d9W"
      },
      "outputs": [],
      "source": [
        "!pip install netCDF4\n",
        "!pip install contextily"
      ]
    },
    {
      "cell_type": "markdown",
      "metadata": {
        "id": "hHUeJQEN1d9X"
      },
      "source": [
        "###<strong>1) Download Data:\n",
        "\n",
        "Regardless of whether you are using the Google Colab environment, or have downloaded this notebook to your local drive, you will first need to download some data. You can use this notebook to plot any CryoTEMPO-EOLIS gridded data that you choose. For a quick example, follow the below instructions to download a small example dataset.</strong>"
      ]
    },
    {
      "cell_type": "markdown",
      "metadata": {
        "id": "e0Cv08Zs1d9X"
      },
      "source": [
        "- - - - - - - - - - - - - - - - - - - - - - - - - - - - - - - - - - - - - - - - - - - - - - - - - - - - - -"
      ]
    },
    {
      "cell_type": "markdown",
      "metadata": {
        "id": "S4nN2PfN1d9X"
      },
      "source": [
        "Imports necessary to run the rest of the code"
      ]
    },
    {
      "cell_type": "code",
      "execution_count": 4,
      "metadata": {
        "id": "jpPczm081d9X"
      },
      "outputs": [
        {
          "ename": "ModuleNotFoundError",
          "evalue": "No module named 'geopandas'",
          "output_type": "error",
          "traceback": [
            "\u001b[1;31m---------------------------------------------------------------------------\u001b[0m",
            "\u001b[1;31mModuleNotFoundError\u001b[0m                       Traceback (most recent call last)",
            "Cell \u001b[1;32mIn[4], line 7\u001b[0m\n\u001b[0;32m      4\u001b[0m \u001b[38;5;28;01mfrom\u001b[39;00m \u001b[38;5;21;01mftplib\u001b[39;00m \u001b[38;5;28;01mimport\u001b[39;00m FTP\n\u001b[0;32m      6\u001b[0m \u001b[38;5;28;01mimport\u001b[39;00m \u001b[38;5;21;01mcontextily\u001b[39;00m \u001b[38;5;28;01mas\u001b[39;00m \u001b[38;5;21;01mctx\u001b[39;00m\n\u001b[1;32m----> 7\u001b[0m \u001b[38;5;28;01mimport\u001b[39;00m \u001b[38;5;21;01mgeopandas\u001b[39;00m \u001b[38;5;28;01mas\u001b[39;00m \u001b[38;5;21;01mgp\u001b[39;00m\n\u001b[0;32m      8\u001b[0m \u001b[38;5;28;01mimport\u001b[39;00m \u001b[38;5;21;01mmatplotlib\u001b[39;00m\u001b[38;5;21;01m.\u001b[39;00m\u001b[38;5;21;01mpyplot\u001b[39;00m \u001b[38;5;28;01mas\u001b[39;00m \u001b[38;5;21;01mplt\u001b[39;00m\n\u001b[0;32m      9\u001b[0m \u001b[38;5;28;01mimport\u001b[39;00m \u001b[38;5;21;01mnetCDF4\u001b[39;00m \u001b[38;5;28;01mas\u001b[39;00m \u001b[38;5;21;01mnc\u001b[39;00m\n",
            "\u001b[1;31mModuleNotFoundError\u001b[0m: No module named 'geopandas'"
          ]
        }
      ],
      "source": [
        "import datetime\n",
        "import glob\n",
        "import os\n",
        "from ftplib import FTP\n",
        "\n",
        "import contextily as ctx\n",
        "import geopandas as gp\n",
        "import matplotlib.pyplot as plt\n",
        "import netCDF4 as nc\n",
        "import numpy as np\n",
        "from mpl_toolkits.axes_grid1.inset_locator import inset_axes\n",
        "from shapely import Polygon\n",
        "\n",
        "plt.rcParams.update({'font.size': 14})"
      ]
    },
    {
      "cell_type": "markdown",
      "metadata": {
        "id": "7eFZJ5dl1d9Y"
      },
      "source": [
        "<strong>The following four cells contain the python script necessary to download the results of the query described above from the ESA FTP servers. It is taken verbatim from the script generated by a cs2eo query - one could run said script in place of these 4 cells, for any query of your choice. The data is downloaded to your current working directory. This query will download a file containing gridded product data for Iceland.</strong>"
      ]
    },
    {
      "cell_type": "markdown",
      "metadata": {
        "id": "Ucq1Bod-1d9Y"
      },
      "source": [
        "This function is necessary to complete the data download"
      ]
    },
    {
      "cell_type": "code",
      "execution_count": null,
      "metadata": {
        "id": "RgDFj1aU1d9Y"
      },
      "outputs": [],
      "source": [
        "def file_byte_handler(data):\n",
        "    global download_file_obj, read_byte_count, total_byte_count\n",
        "    download_file_obj.write(data)\n",
        "    read_byte_count = read_byte_count + len(data)"
      ]
    },
    {
      "cell_type": "markdown",
      "metadata": {
        "id": "A-_pvVXK1d9Y"
      },
      "source": [
        "First, we list the files that we want to download. These are generated automatically by a [cs2eo.org](https://cs2eo.org/cryotempo) query. If you wanted to download additional months or a different region, you would add the corresponding file paths to this list."
      ]
    },
    {
      "cell_type": "code",
      "execution_count": null,
      "metadata": {
        "id": "PMF9z1Df1d9Y"
      },
      "outputs": [],
      "source": [
        "esa_files =  ['/TEMPO_SWATH_GRID/2023/11/ICELAND/CS_OFFL_THEM_GRID__ICELAND___2023_11_V201.nc']\n",
        "download_file_obj = None\n",
        "read_byte_count = None\n",
        "total_byte_count = None"
      ]
    },
    {
      "cell_type": "markdown",
      "metadata": {
        "id": "iM7fdEhy1d9Y"
      },
      "source": [
        "Next, we must provide an email address to access the ESA FTP server. Input your email into the prompt that appears below."
      ]
    },
    {
      "cell_type": "code",
      "execution_count": null,
      "metadata": {
        "id": "esoQMTfM1d9Y"
      },
      "outputs": [],
      "source": [
        "email = input(\"Please enter your e-mail: \")"
      ]
    },
    {
      "cell_type": "markdown",
      "metadata": {
        "id": "311iiGZH1d9Y"
      },
      "source": [
        "Finally, we connect to the server, supply our email address and download the data to our current working directory. This process should take a couple of minutes. The progress of the download will be shown below."
      ]
    },
    {
      "cell_type": "code",
      "execution_count": null,
      "metadata": {
        "id": "DoZAu0gk1d9Z"
      },
      "outputs": [],
      "source": [
        "print(\"About to connect to ESA science server\")\n",
        "# Open the FTP connection\n",
        "with FTP(\"science-pds.cryosat.esa.int\") as ftp:\n",
        "    try:\n",
        "        #Login using your email address\n",
        "        ftp.login(\"anonymous\", email)\n",
        "        print(\"Downloading {} files\".format(len(esa_files)))\n",
        "        # Step through the files that we want to download\n",
        "        for i, filename in enumerate(esa_files):\n",
        "            padded_count = str(i+1).zfill(len(str(len(esa_files))))\n",
        "            # Print some details about the progress of the download\n",
        "            print(\"{}/{}. Downloading file {}\".format(padded_count, len(esa_files), os.path.basename(filename)))\n",
        "            with open(os.path.basename(filename), 'wb') as download_file:\n",
        "                download_file_obj = download_file\n",
        "                total_byte_count = ftp.size(filename)\n",
        "                read_byte_count = 0\n",
        "                ftp.retrbinary('RETR ' + filename, file_byte_handler, 1024)\n",
        "            print(\"\\n\")\n",
        "    # After downloading all of the files, close the FTP connection\n",
        "    finally:\n",
        "        print(\"Exiting FTP.\")\n",
        "        ftp.quit()"
      ]
    },
    {
      "cell_type": "markdown",
      "metadata": {
        "id": "IM-LGvpx1d9Z"
      },
      "source": [
        "- - - - - - - - - - - - - - - - - - - - - - - - - - - - - - - - - - - - - - - - - - - - - - - - - - - - - -\n",
        "###<strong>2) Load downloaded data into python</strong>"
      ]
    },
    {
      "cell_type": "markdown",
      "metadata": {
        "id": "ft25LELv1d9Z"
      },
      "source": [
        "<strong>Now that we have downloaded the data, we can use python to visualise it. In the remainder of this demo notebook, we will load the data that we have just downloaded into python, and then use it to plot a series of DEMs showing the elevation of the Vatnajokull glacier.</strong>"
      ]
    },
    {
      "cell_type": "markdown",
      "metadata": {
        "id": "C6On8BDT1d9Z"
      },
      "source": [
        "If you have downloaded the notebook onto your local machine, you will need to edit the filepath below to point to the location of the downloaded data. We will then locate and store the names of each of the gridded data files. The gridded data is stored in *netcdf* files, which have the suffix '.nc'.\n",
        "Here, we also define the coordinate reference system (CRS) for the region that we are plotting (Iceland), that describes the projection information for this geographical area. If you wish to plot a different region, you may need to change the CRS definition to match the region, as described at https://cryotempo-eolis.org/products/"
      ]
    },
    {
      "cell_type": "code",
      "execution_count": null,
      "metadata": {
        "id": "87jac1PH1d9Z"
      },
      "outputs": [],
      "source": [
        "region = 'ICELAND'\n",
        "data_filepath = '/content/' #Filepath specific to the Google Colab environment - edit this is you are running the notebook on your local system\n",
        "files = sorted(glob.glob(data_filepath+f'/*{region}*.nc')) # If you download data for a different region, edit the name provided here"
      ]
    },
    {
      "cell_type": "markdown",
      "metadata": {
        "id": "IHr6590l1d9Z"
      },
      "source": [
        "<strong>Now that the files containing the data have been located, we will load the data that they contain into python, one file at a time.</strong>"
      ]
    },
    {
      "cell_type": "code",
      "execution_count": null,
      "metadata": {
        "id": "IyDGU3pV1d9Z"
      },
      "outputs": [],
      "source": [
        "dem_list, timestamp_list = [], []"
      ]
    },
    {
      "cell_type": "markdown",
      "metadata": {
        "id": "O0A2pCXF1d9Z"
      },
      "source": [
        "Firstly, we can check the metadata for the gridded product files. In the output of this command, we can see lots of additional information assosciated with the gridded product files, including projection information, product version and support information."
      ]
    },
    {
      "cell_type": "code",
      "execution_count": null,
      "metadata": {
        "id": "rmu3Mq7i1d9Z"
      },
      "outputs": [],
      "source": [
        "dataset = nc.Dataset(files[0])\n",
        "print(dataset)"
      ]
    },
    {
      "cell_type": "markdown",
      "metadata": {
        "id": "MBbZHBYq1d9Z"
      },
      "source": [
        "We can extract the coordinate projection information from the metadata"
      ]
    },
    {
      "cell_type": "code",
      "execution_count": null,
      "metadata": {
        "id": "nyHrt31N1d9Z"
      },
      "outputs": [],
      "source": [
        "proj4_code = dataset.geospatial_projection[1:-1]"
      ]
    },
    {
      "cell_type": "markdown",
      "metadata": {
        "id": "jHz67YgO1d9Z"
      },
      "source": [
        " The following loop opens each netcdf file, reads in the data associated with each variable, and stores this data in the column of a dataframe. Here we choose to extract the x and y positions, and the elevation value, of each gridcell within the gridded product."
      ]
    },
    {
      "cell_type": "code",
      "execution_count": null,
      "metadata": {
        "id": "8aiF6mgr1d9Z"
      },
      "outputs": [],
      "source": [
        "for i in range(len(files)):\n",
        "    # Open the netcdf file\n",
        "    netcdf = nc.Dataset(files[i])\n",
        "\n",
        "    # Load data from the file\n",
        "    time =  netcdf.variables['time']\n",
        "    timestamp_list.append(time[:])\n",
        "    dem_array = netcdf.variables['elevation'][:]\n",
        "    gridcell_x_bounds = netcdf.variables['x_bnds'][:]\n",
        "    gridcell_y_bounds = netcdf.variables['y_bnds'][:]\n",
        "\n",
        "    # create polygon objects for each gridcell in the DEM\n",
        "    gridcell_polygons = []\n",
        "    for x_bound in gridcell_x_bounds:\n",
        "        for y_bound in gridcell_y_bounds:\n",
        "            gridcell_polygons.append(Polygon(((x_bound[0], y_bound[0]),\n",
        "                                              (x_bound[0], y_bound[1]),\n",
        "                                              (x_bound[1], y_bound[1]),\n",
        "                                              (x_bound[1], y_bound[0]))))\n",
        "    # Set no data values to np.nan\n",
        "    dem_array[dem_array.mask] = np.nan\n",
        "    # x_bnds and y_bnds contain the boundaries of each gridcell - here we find the midpoint\n",
        "    xs = np.average(gridcell_x_bounds.data, axis=1)\n",
        "    ys = np.average(gridcell_y_bounds.data, axis=1)\n",
        "    # Create a grid of x and y coordinates\n",
        "    yy, xx = np.meshgrid(ys, xs)\n",
        "\n",
        "    df = gp.GeoDataFrame({'x': xx.flatten(), 'y': yy.flatten(), 'elevation': dem_array.data.reshape(len(xs), len(ys)).flatten()},\n",
        "                         geometry=gridcell_polygons, crs=proj4_code)\n",
        "\n",
        "    dem_list.append(df)"
      ]
    },
    {
      "cell_type": "markdown",
      "metadata": {
        "id": "IIbTiQ-c1d9Z"
      },
      "source": [
        "Finally, we use the datetime python package to convert the *timestamps* provided by the EOLIS data into *years, months and days*."
      ]
    },
    {
      "cell_type": "code",
      "execution_count": null,
      "metadata": {
        "id": "LJ3i7dG91d9Z"
      },
      "outputs": [],
      "source": [
        "dates = [datetime.datetime.fromtimestamp(a[0]) for a in timestamp_list]"
      ]
    },
    {
      "cell_type": "markdown",
      "metadata": {
        "id": "7on4eTiY1d9Z"
      },
      "source": [
        "- - - - - - - - - - - - - - - - - - - - - - - - - - - - - - - - - - - - - - - - - - - - - - - - - - - - - -\n",
        "###<strong>3) Use the Cryotempo-EOLIS gridded product to plot a selection of DEMS, and show the difference in elevation for a specific time window</strong>"
      ]
    },
    {
      "cell_type": "markdown",
      "metadata": {
        "id": "FU-UAw5x1d9Z"
      },
      "source": [
        "Below, we plot the 2-dimensional elevation data for the Vatnajokull glacier."
      ]
    },
    {
      "cell_type": "code",
      "execution_count": null,
      "metadata": {
        "id": "gkFJGAMU1d9a"
      },
      "outputs": [],
      "source": [
        "fig, ax = plt.subplots(nrows=1, ncols=1, figsize=(20, 10))\n",
        "dem_list[0].plot(column='elevation', ax=ax, cmap='viridis', vmin=0, vmax=2000, legend=True, legend_kwds={'label': 'Elevation [m]'})\n",
        "ax.set_xlabel('x [m]')\n",
        "ax.set_ylabel('y [m]')\n",
        "\n",
        "plt.title(f'CryoTEMPO-EOLIS DEM for {region.title()}, {str(dates[0].date())}')\n",
        "\n",
        "# set high resolution background map for zoomed in plot of Vatnajokull\n",
        "ctx.add_basemap(ax, source=ctx.providers.GeoportailFrance.orthos, zoom=9, crs=proj4_code)\n",
        "\n",
        "# add thumbnail to corner of plot to show where the data is\n",
        "thumbnail_ax = inset_axes(ax, width=\"25%\", height=1.5, loc='upper left')\n",
        "\n",
        "# set extent of iceland for second axis in EPSG:3413\n",
        "thumbnail_ax.set_ylim(-2700000, -2200000)\n",
        "thumbnail_ax.set_xlim(900000, 1500000)\n",
        "thumbnail_ax.tick_params(bottom=False, left=False, labelbottom=False, labelleft=False)\n",
        "for spine in ['bottom', 'top', 'right', 'left']:\n",
        "    thumbnail_ax.spines[spine].set_color('red')\n",
        "\n",
        "dem_list[0].plot(column='elevation', ax=thumbnail_ax, cmap='viridis', vmin=0, vmax=2000, legend=False)\n",
        "# set lower resolution background map for zoomed out plot of iceland\n",
        "ctx.add_basemap(thumbnail_ax, source=ctx.providers.GeoportailFrance.orthos, zoom=6, crs=proj4_code, attribution=False)"
      ]
    }
  ],
  "metadata": {
    "colab": {
      "provenance": []
    },
    "kernelspec": {
      "display_name": "Python 3.9.7 ('ew_eolis')",
      "language": "python",
      "name": "python3"
    },
    "language_info": {
      "codemirror_mode": {
        "name": "ipython",
        "version": 3
      },
      "file_extension": ".py",
      "mimetype": "text/x-python",
      "name": "python",
      "nbconvert_exporter": "python",
      "pygments_lexer": "ipython3",
      "version": "3.12.2"
    },
    "orig_nbformat": 4,
    "vscode": {
      "interpreter": {
        "hash": "2acbfda774a9eee78609fae0795920b9a29a7265f1d42eeff10c43fa0d5c3170"
      }
    }
  },
  "nbformat": 4,
  "nbformat_minor": 0
}
